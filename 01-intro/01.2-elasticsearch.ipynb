{
 "cells": [
  {
   "cell_type": "markdown",
   "id": "c8fec113",
   "metadata": {},
   "source": [
    "# Search with ElasticSearch\n",
    "\n",
    "[Video](https://www.youtube.com/watch?v=1lgbR5wMvsI&list=PL3MmuxUbc_hIB4fSqLy_0AfTjVLpgjV3R&index=8&ab_channel=DataTalksClub%E2%AC%9B)\n",
    "\n",
    "start elastic search by running this in the terminal\n",
    "\n",
    "```\n",
    "docker run -it \\\n",
    "    --rm \\\n",
    "    --name elasticsearch \\\n",
    "    -m 4GB \\\n",
    "    -p 9200:9200 \\\n",
    "    -p 9300:9300 \\\n",
    "    -e \"discovery.type=single-node\" \\\n",
    "    -e \"xpack.security.enabled=false\" \\\n",
    "    docker.elastic.co/elasticsearch/elasticsearch:8.4.3\n",
    "```"
   ]
  },
  {
   "cell_type": "code",
   "execution_count": null,
   "id": "a86457c1",
   "metadata": {},
   "outputs": [],
   "source": [
    "import json\n",
    "from elasticsearch import Elasticsearch\n",
    "from tqdm.auto import tqdm\n",
    "\n",
    "def elastic_search(query, es_client, index_name, course=\"data-engineering-zoomcamp\",n=5):\n",
    "    \"\"\"\n",
    "    Searches the specified Elasticsearch index for the query string.\n",
    "\n",
    "    Args:\n",
    "        query (str): Search text.\n",
    "        es_client: Elasticsearch client instance.\n",
    "        index_name (str): Name of the index to search.\n",
    "        n (int): Number of top results to return (default is 5).\n",
    "\n",
    "    Returns:\n",
    "        list: List of top matching documents.\n",
    "    \"\"\"\n",
    "\n",
    "    search_query = {\n",
    "        \"size\": n,\n",
    "        \"query\": {\n",
    "            \"bool\": {\n",
    "                \"must\": {\n",
    "                    \"multi_match\": {\n",
    "                        \"query\": query,\n",
    "                        \"fields\": [\"question^4\", \"text\"],\n",
    "                        \"type\": \"best_fields\"\n",
    "                    }\n",
    "                },\n",
    "                \"filter\": {\n",
    "                    \"term\": {\n",
    "                        \"course\": course\n",
    "                    }\n",
    "                }\n",
    "            }\n",
    "        }\n",
    "    }\n",
    "\n",
    "    ## execute query\n",
    "    response = es_client.search(index=index_name, body=search_query)\n",
    "\n",
    "    result_docs = []\n",
    "\n",
    "    for hit in response['hits']['hits']:\n",
    "        result_docs.append(hit['_source'])\n",
    "\n",
    "    return result_docs"
   ]
  },
  {
   "cell_type": "code",
   "execution_count": null,
   "id": "69ecc3af",
   "metadata": {},
   "outputs": [],
   "source": [
    "# load documents\n",
    "\n",
    "with open('documents.json', 'rt') as f_in:\n",
    "    docs_raw = json.load(f_in)\n",
    "\n",
    "documents = []\n",
    "for course_dict in docs_raw:\n",
    "    for doc in course_dict['documents']:\n",
    "        doc['course'] = course_dict['course']\n",
    "        documents.append(doc)"
   ]
  },
  {
   "cell_type": "code",
   "execution_count": null,
   "id": "fbf09a22",
   "metadata": {},
   "outputs": [],
   "source": [
    "# create an index in ElasticSearch\n",
    "es_client = Elasticsearch('http://localhost:9200')\n",
    "\n",
    "index_settings = {\n",
    "    \"settings\": {\n",
    "        \"number_of_shards\": 1,\n",
    "        \"number_of_replicas\": 0\n",
    "    },\n",
    "    \"mappings\": {\n",
    "        \"properties\": {\n",
    "            \"text\": {\"type\": \"text\"},\n",
    "            \"section\": {\"type\": \"text\"},\n",
    "            \"question\": {\"type\": \"text\"},\n",
    "            \"course\": {\"type\": \"keyword\"} \n",
    "        }\n",
    "    }\n",
    "}\n",
    "\n",
    "index_name = \"course-questions\"\n",
    "\n",
    "if not es_client.indices.exists(index=index_name):\n",
    "    es_client.indices.create(index=index_name,body=index_settings)\n",
    "\n",
    "    # add documents to index\n",
    "    for doc in tqdm(documents):\n",
    "        es_client.index(index=index_name, document=doc)"
   ]
  },
  {
   "cell_type": "code",
   "execution_count": null,
   "id": "e1e3eeec",
   "metadata": {},
   "outputs": [],
   "source": [
    "# perform a search\n",
    "query = \"How do copy a file to a Docker container?\"\n",
    "elastic_search(query, es_client, index_name, course=\"machine-learning-zoomcamp\", n=3)"
   ]
  },
  {
   "cell_type": "markdown",
   "id": "bba93376",
   "metadata": {},
   "source": []
  }
 ],
 "metadata": {
  "kernelspec": {
   "display_name": "Python 3",
   "language": "python",
   "name": "python3"
  },
  "language_info": {
   "codemirror_mode": {
    "name": "ipython",
    "version": 3
   },
   "file_extension": ".py",
   "mimetype": "text/x-python",
   "name": "python",
   "nbconvert_exporter": "python",
   "pygments_lexer": "ipython3",
   "version": "3.12.1"
  }
 },
 "nbformat": 4,
 "nbformat_minor": 5
}
