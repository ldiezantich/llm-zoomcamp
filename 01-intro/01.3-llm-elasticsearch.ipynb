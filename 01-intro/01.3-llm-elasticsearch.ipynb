{
 "cells": [
  {
   "cell_type": "markdown",
   "id": "c8fec113",
   "metadata": {},
   "source": [
    "# Search with LLM + ElasticSearch\n",
    "\n",
    "Note: This notebook assumes 01.2-elasticsearch notebook is has ran, so the ElasticSearch instance is running and has the documents indexed."
   ]
  },
  {
   "cell_type": "code",
   "execution_count": 1,
   "id": "a86457c1",
   "metadata": {},
   "outputs": [],
   "source": [
    "%run ./01.1-llm-search.ipynb\n",
    "%run ./01.2-elasticsearch.ipynb"
   ]
  },
  {
   "cell_type": "code",
   "execution_count": 6,
   "id": "e1e3eeec",
   "metadata": {},
   "outputs": [
    {
     "name": "stdout",
     "output_type": "stream",
     "text": [
      "The provided context does not contain specific instructions on how to use Kafka. However, you can refer to **Module 6: streaming with Kafka** (mentioned in the context) for relevant course materials. If you need further assistance, check the course resources or ask for clarification from instructors or peers.  \n",
      "\n",
      "For general Kafka usage outside the course, you may need to consult external documentation or tutorials.\n"
     ]
    }
   ],
   "source": [
    "def rag_elasticsearch(query, es_client, index_name):\n",
    "    search_results = elastic_search(query, es_client, index_name)\n",
    "    prompt = build_prompt(query, search_results)\n",
    "    answer = llm(prompt)\n",
    "    return answer\n",
    "\n",
    "# perform a search\n",
    "query = \"I just discovered the course. Can I still join?\"\n",
    "query = \"How do I use kafka?\"\n",
    "\n",
    "result = rag_elasticsearch(query, es_client, index_name)\n",
    "\n",
    "print(result)"
   ]
  },
  {
   "cell_type": "code",
   "execution_count": null,
   "id": "29631d7a",
   "metadata": {},
   "outputs": [],
   "source": []
  }
 ],
 "metadata": {
  "kernelspec": {
   "display_name": "Python 3",
   "language": "python",
   "name": "python3"
  },
  "language_info": {
   "codemirror_mode": {
    "name": "ipython",
    "version": 3
   },
   "file_extension": ".py",
   "mimetype": "text/x-python",
   "name": "python",
   "nbconvert_exporter": "python",
   "pygments_lexer": "ipython3",
   "version": "3.12.1"
  }
 },
 "nbformat": 4,
 "nbformat_minor": 5
}
