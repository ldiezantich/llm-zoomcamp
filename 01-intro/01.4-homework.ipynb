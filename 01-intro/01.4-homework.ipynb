{
 "cells": [
  {
   "cell_type": "markdown",
   "id": "d9d53262",
   "metadata": {},
   "source": [
    "# Homework\n",
    "\n",
    "This notebook answers the questions of the homework for the first module. [Link to homework](https://github.com/DataTalksClub/llm-zoomcamp/blob/main/cohorts/2025/01-intro/homework.md)\n"
   ]
  },
  {
   "cell_type": "code",
   "execution_count": 1,
   "id": "309067e2",
   "metadata": {},
   "outputs": [],
   "source": [
    "%run ./01.1-llm-search.ipynb\n",
    "%run ./01.2-elasticsearch.ipynb"
   ]
  },
  {
   "cell_type": "code",
   "execution_count": 2,
   "id": "3658bc85",
   "metadata": {},
   "outputs": [
    {
     "name": "stdout",
     "output_type": "stream",
     "text": [
      "{\n",
      "  \"name\" : \"88555d4347ff\",\n",
      "  \"cluster_name\" : \"docker-cluster\",\n",
      "  \"cluster_uuid\" : \"4SYaB7H-QO6WjVBW7LSq5A\",\n",
      "  \"version\" : {\n",
      "    \"number\" : \"8.17.6\",\n",
      "    \"build_flavor\" : \"default\",\n",
      "    \"build_type\" : \"docker\",\n",
      "    \"build_hash\" : \"dbcbbbd0bc4924cfeb28929dc05d82d662c527b7\",\n",
      "    \"build_date\" : \"2025-04-30T14:07:12.231372970Z\",\n",
      "    \"build_snapshot\" : false,\n",
      "    \"lucene_version\" : \"9.12.0\",\n",
      "    \"minimum_wire_compatibility_version\" : \"7.17.0\",\n",
      "    \"minimum_index_compatibility_version\" : \"7.0.0\"\n",
      "  },\n",
      "  \"tagline\" : \"You Know, for Search\"\n",
      "}\n"
     ]
    }
   ],
   "source": [
    "# Q1. Running Elastic\n",
    "!curl localhost:9200"
   ]
  },
  {
   "cell_type": "code",
   "execution_count": 3,
   "id": "222d2705",
   "metadata": {},
   "outputs": [],
   "source": [
    "# Q2. Indexing the data\n",
    "# See notebook 01.2-elasticsearch.ipynb"
   ]
  },
  {
   "cell_type": "code",
   "execution_count": 4,
   "id": "166b36ba",
   "metadata": {},
   "outputs": [
    {
     "data": {
      "text/plain": [
       "31.973522"
      ]
     },
     "execution_count": 4,
     "metadata": {},
     "output_type": "execute_result"
    }
   ],
   "source": [
    "# Q3. Searching\n",
    "\n",
    "query = \"How do execute a command on a Kubernetes pod?\"\n",
    "course='data-engineering-zoomcamp'\n",
    "n=5\n",
    "\n",
    "search_query = {\n",
    "    \"size\": n,\n",
    "    \"query\": {\n",
    "        \"bool\": {\n",
    "            \"must\": {\n",
    "                \"multi_match\": {\n",
    "                    \"query\": query,\n",
    "                    \"fields\": [\"question^4\", \"text\"],\n",
    "                    \"type\": \"best_fields\"\n",
    "                }\n",
    "            },\n",
    "            \"filter\": {\n",
    "                \"term\": {\n",
    "                    \"course\": course\n",
    "                }\n",
    "            }\n",
    "        }\n",
    "    }\n",
    "}\n",
    "\n",
    "## execute query\n",
    "response = es_client.search(index=index_name, body=search_query)\n",
    "\n",
    "response['hits']['hits'][0]['_score']"
   ]
  },
  {
   "cell_type": "code",
   "execution_count": 5,
   "id": "42565348",
   "metadata": {},
   "outputs": [
    {
     "name": "stdout",
     "output_type": "stream",
     "text": [
      "1637\n"
     ]
    }
   ],
   "source": [
    "# Q5. Building a prompt\n",
    "\n",
    "query = \"How do I execute a command in a running docker container?\"\n",
    "\n",
    "course='machine-learning-zoomcamp'\n",
    "n=3\n",
    "\n",
    "search_results = elastic_search(query, es_client, index_name, course, n)\n",
    "prompt = build_prompt(query, search_results)\n",
    "\n",
    "print(len(prompt))\n",
    "\n"
   ]
  },
  {
   "cell_type": "code",
   "execution_count": 6,
   "id": "f3e05979",
   "metadata": {},
   "outputs": [
    {
     "name": "stdout",
     "output_type": "stream",
     "text": [
      "356\n"
     ]
    }
   ],
   "source": [
    "# Q6. Tokens\n",
    "\n",
    "import tiktoken\n",
    "\n",
    "encoding = tiktoken.encoding_for_model(\"gpt-4o\")\n",
    "tokens = encoding.encode(prompt)\n",
    "print(len(tokens))"
   ]
  }
 ],
 "metadata": {
  "kernelspec": {
   "display_name": "Python 3",
   "language": "python",
   "name": "python3"
  },
  "language_info": {
   "codemirror_mode": {
    "name": "ipython",
    "version": 3
   },
   "file_extension": ".py",
   "mimetype": "text/x-python",
   "name": "python",
   "nbconvert_exporter": "python",
   "pygments_lexer": "ipython3",
   "version": "3.12.1"
  }
 },
 "nbformat": 4,
 "nbformat_minor": 5
}
